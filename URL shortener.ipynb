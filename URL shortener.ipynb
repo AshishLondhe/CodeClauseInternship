{
 "cells": [
  {
   "cell_type": "code",
   "execution_count": 2,
   "id": "5f861214",
   "metadata": {},
   "outputs": [
    {
     "name": "stdout",
     "output_type": "stream",
     "text": [
      "Requirement already satisfied: pyshorteners in c:\\users\\ashish\\anaconda3\\lib\\site-packages (1.0.1)\n",
      "Requirement already satisfied: requests in c:\\users\\ashish\\anaconda3\\lib\\site-packages (from pyshorteners) (2.31.0)\n",
      "Requirement already satisfied: charset-normalizer<4,>=2 in c:\\users\\ashish\\anaconda3\\lib\\site-packages (from requests->pyshorteners) (2.0.4)\n",
      "Requirement already satisfied: idna<4,>=2.5 in c:\\users\\ashish\\anaconda3\\lib\\site-packages (from requests->pyshorteners) (3.4)\n",
      "Requirement already satisfied: urllib3<3,>=1.21.1 in c:\\users\\ashish\\anaconda3\\lib\\site-packages (from requests->pyshorteners) (1.26.16)\n",
      "Requirement already satisfied: certifi>=2017.4.17 in c:\\users\\ashish\\anaconda3\\lib\\site-packages (from requests->pyshorteners) (2023.7.22)\n",
      "Note: you may need to restart the kernel to use updated packages.\n"
     ]
    }
   ],
   "source": [
    "pip install pyshorteners"
   ]
  },
  {
   "cell_type": "code",
   "execution_count": 3,
   "id": "1a15a375",
   "metadata": {},
   "outputs": [],
   "source": [
    "import pyshorteners"
   ]
  },
  {
   "cell_type": "code",
   "execution_count": 4,
   "id": "a919e3e4",
   "metadata": {},
   "outputs": [
    {
     "name": "stdout",
     "output_type": "stream",
     "text": [
      "Enter the URL to shorten: https://github.com/AshishLondhe/TechnohacksInternship\n"
     ]
    }
   ],
   "source": [
    "long_url = input(\"Enter the URL to shorten: \")"
   ]
  },
  {
   "cell_type": "code",
   "execution_count": 5,
   "id": "81ae2521",
   "metadata": {},
   "outputs": [],
   "source": [
    "type_tiny = pyshorteners.Shortener()"
   ]
  },
  {
   "cell_type": "code",
   "execution_count": 6,
   "id": "1b2b0bfb",
   "metadata": {},
   "outputs": [
    {
     "name": "stdout",
     "output_type": "stream",
     "text": [
      "The Shortened URL is: https://tinyurl.com/yoecxhdb\n"
     ]
    }
   ],
   "source": [
    "short_url = type_tiny.tinyurl.short(long_url)\n",
    " \n",
    "print(\"The Shortened URL is: \" + short_url)"
   ]
  }
 ],
 "metadata": {
  "kernelspec": {
   "display_name": "Python 3 (ipykernel)",
   "language": "python",
   "name": "python3"
  },
  "language_info": {
   "codemirror_mode": {
    "name": "ipython",
    "version": 3
   },
   "file_extension": ".py",
   "mimetype": "text/x-python",
   "name": "python",
   "nbconvert_exporter": "python",
   "pygments_lexer": "ipython3",
   "version": "3.11.4"
  }
 },
 "nbformat": 4,
 "nbformat_minor": 5
}
